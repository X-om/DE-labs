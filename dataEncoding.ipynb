{
  "nbformat": 4,
  "nbformat_minor": 0,
  "metadata": {
    "colab": {
      "provenance": []
    },
    "kernelspec": {
      "name": "python3",
      "display_name": "Python 3"
    },
    "language_info": {
      "name": "python"
    }
  },
  "cells": [
    {
      "cell_type": "markdown",
      "source": [
        "# Data Encoding\n",
        "Is part of data cleaning technique. Transformation of data is done here\n",
        "\n",
        "TYPES:\n",
        "*   Binary\n",
        "*   One hot\n",
        "*   Label\n",
        "*   Target\n",
        "*   DUMMY\n",
        "\n"
      ],
      "metadata": {
        "id": "4__UHO645j15"
      }
    },
    {
      "cell_type": "markdown",
      "source": [
        "### One Hot Encoding\n",
        "One-hot-encoding is a powerful technique to treat categorical data, but it can lead to increased dimensionality, sparsity, and overfitting.\n"
      ],
      "metadata": {
        "id": "SESfFyo055Q2"
      }
    },
    {
      "cell_type": "code",
      "source": [
        "import pandas as pd\n",
        "from sklearn import preprocessing\n",
        "\n",
        "# Sample dataset\n",
        "data = {'vehicle': ['car', 'truck', 'motorcycle', 'car', 'motorcycle']}\n",
        "df_vehicles = pd.DataFrame(data)\n",
        "\n",
        "# One-hot encoding\n",
        "onehot_encoder = preprocessing.OneHotEncoder()\n",
        "encoded = onehot_encoder.fit_transform(df_vehicles[['vehicle']]).toarray()\n",
        "\n",
        "# Convert the encoded data into a DataFrame\n",
        "df_encoded = pd.DataFrame(encoded, columns=onehot_encoder.get_feature_names_out(['vehicle']))\n",
        "\n",
        "# Concatenate the original and encoded DataFrames\n",
        "df_result = pd.concat([df_vehicles, df_encoded], axis=1)\n",
        "\n",
        "print(df_result)\n"
      ],
      "metadata": {
        "colab": {
          "base_uri": "https://localhost:8080/"
        },
        "id": "FJ25uGg85603",
        "outputId": "05965d0f-e0c5-4bee-9811-f90625b76634"
      },
      "execution_count": null,
      "outputs": [
        {
          "output_type": "stream",
          "name": "stdout",
          "text": [
            "      vehicle  vehicle_car  vehicle_motorcycle  vehicle_truck\n",
            "0         car          1.0                 0.0            0.0\n",
            "1       truck          0.0                 0.0            1.0\n",
            "2  motorcycle          0.0                 1.0            0.0\n",
            "3         car          1.0                 0.0            0.0\n",
            "4  motorcycle          0.0                 1.0            0.0\n"
          ]
        }
      ]
    },
    {
      "cell_type": "markdown",
      "source": [
        "### Label Encoding\n",
        "Label encoding is a technique used in machine learning and data analysis to convert categorical variables into numerical format.\n"
      ],
      "metadata": {
        "id": "GQgtchAd5nuj"
      }
    },
    {
      "cell_type": "code",
      "source": [
        "import pandas as pd\n",
        "from sklearn import preprocessing\n",
        "\n",
        "# New sample data\n",
        "data = {'color': ['red', 'blue', 'green', 'blue', 'red']}\n",
        "df = pd.DataFrame(data)\n",
        "\n",
        "# Label encoding\n",
        "label_encoder = preprocessing.LabelEncoder()\n",
        "df['color'] = label_encoder.fit_transform(df['color'])\n",
        "\n",
        "print(df)\n",
        "print(df['color'].unique())\n"
      ],
      "metadata": {
        "colab": {
          "base_uri": "https://localhost:8080/"
        },
        "id": "BPIkwe8p5pXl",
        "outputId": "fe03d14b-2ce5-4460-d71f-299e274a6b6a"
      },
      "execution_count": null,
      "outputs": [
        {
          "output_type": "stream",
          "name": "stdout",
          "text": [
            "   color\n",
            "0      2\n",
            "1      0\n",
            "2      1\n",
            "3      0\n",
            "4      2\n",
            "[2 0 1]\n"
          ]
        }
      ]
    },
    {
      "cell_type": "markdown",
      "source": [
        "### Target Encoding\n",
        "A target encoding is any kind of encoding that replaces a feature's categories with some number derived from the target."
      ],
      "metadata": {
        "id": "Iyd8EIPj6Sf4"
      }
    },
    {
      "cell_type": "code",
      "source": [
        "import pandas as pd\n",
        "from sklearn import preprocessing\n",
        "\n",
        "# New sample data\n",
        "data = {'fruit': ['apple', 'banana', 'orange', 'apple', 'banana']}\n",
        "df = pd.DataFrame(data)\n",
        "\n",
        "# Target encoding\n",
        "target_encoder = preprocessing.OrdinalEncoder()\n",
        "target_encoded = target_encoder.fit_transform(df['fruit'].values.reshape(-1, 1))\n",
        "\n",
        "# Convert the encoded data into a DataFrame\n",
        "target_df = pd.DataFrame(target_encoded, columns=['target_encoded'])\n",
        "\n",
        "print(target_df)\n"
      ],
      "metadata": {
        "colab": {
          "base_uri": "https://localhost:8080/"
        },
        "id": "yuAdtvzr6UOx",
        "outputId": "7359d999-1589-4c20-947e-4724bdba0e47"
      },
      "execution_count": null,
      "outputs": [
        {
          "output_type": "stream",
          "name": "stdout",
          "text": [
            "   target_encoded\n",
            "0             0.0\n",
            "1             1.0\n",
            "2             2.0\n",
            "3             0.0\n",
            "4             1.0\n"
          ]
        }
      ]
    },
    {
      "cell_type": "markdown",
      "source": [
        "### Dummy Encoding\n",
        "Dummy coding scheme is similar to one-hot encoding. This categorical data encoding method transforms the categorical variable into a set of binary variables (also known as dummy variables).\n"
      ],
      "metadata": {
        "id": "m4Adqo7q6ka_"
      }
    },
    {
      "cell_type": "code",
      "source": [
        "import pandas as pd\n",
        "\n",
        "# New sample data\n",
        "data = {'vehicle': ['car', 'truck', 'motorcycle', 'car', 'motorcycle']}\n",
        "df = pd.DataFrame(data)\n",
        "\n",
        "# Dummy encoding\n",
        "dummy_encoded = pd.get_dummies(df['vehicle'], prefix='vehicle')\n",
        "\n",
        "print(dummy_encoded)\n"
      ],
      "metadata": {
        "colab": {
          "base_uri": "https://localhost:8080/"
        },
        "id": "4tk8_l9H6isM",
        "outputId": "d18f53e7-3b0c-40e4-8fb3-2a4204fecbe1"
      },
      "execution_count": null,
      "outputs": [
        {
          "output_type": "stream",
          "name": "stdout",
          "text": [
            "   vehicle_car  vehicle_motorcycle  vehicle_truck\n",
            "0         True               False          False\n",
            "1        False               False           True\n",
            "2        False                True          False\n",
            "3         True               False          False\n",
            "4        False                True          False\n"
          ]
        }
      ]
    },
    {
      "cell_type": "markdown",
      "source": [
        "DATA ENCODING IN CSV FILE"
      ],
      "metadata": {
        "id": "ytXSVz7CJxrn"
      }
    },
    {
      "cell_type": "code",
      "source": [
        "\n",
        "\n",
        "from google.colab import files\n",
        "uploaded = files.upload()\n",
        "\n",
        "!pip install category_encoders\n",
        "\n",
        "\n",
        "import pandas as pd\n",
        "\n",
        "df = pd.read_csv('evdata.csv')\n",
        "\n"
      ],
      "metadata": {
        "colab": {
          "base_uri": "https://localhost:8080/",
          "height": 439
        },
        "id": "996H6cr2J0CS",
        "outputId": "b0327602-4743-4ff4-955d-aad9381fbaa8"
      },
      "execution_count": 1,
      "outputs": [
        {
          "output_type": "display_data",
          "data": {
            "text/plain": [
              "<IPython.core.display.HTML object>"
            ],
            "text/html": [
              "\n",
              "     <input type=\"file\" id=\"files-12432aaa-9ef3-48a8-b48f-40a49e94c181\" name=\"files[]\" multiple disabled\n",
              "        style=\"border:none\" />\n",
              "     <output id=\"result-12432aaa-9ef3-48a8-b48f-40a49e94c181\">\n",
              "      Upload widget is only available when the cell has been executed in the\n",
              "      current browser session. Please rerun this cell to enable.\n",
              "      </output>\n",
              "      <script>// Copyright 2017 Google LLC\n",
              "//\n",
              "// Licensed under the Apache License, Version 2.0 (the \"License\");\n",
              "// you may not use this file except in compliance with the License.\n",
              "// You may obtain a copy of the License at\n",
              "//\n",
              "//      http://www.apache.org/licenses/LICENSE-2.0\n",
              "//\n",
              "// Unless required by applicable law or agreed to in writing, software\n",
              "// distributed under the License is distributed on an \"AS IS\" BASIS,\n",
              "// WITHOUT WARRANTIES OR CONDITIONS OF ANY KIND, either express or implied.\n",
              "// See the License for the specific language governing permissions and\n",
              "// limitations under the License.\n",
              "\n",
              "/**\n",
              " * @fileoverview Helpers for google.colab Python module.\n",
              " */\n",
              "(function(scope) {\n",
              "function span(text, styleAttributes = {}) {\n",
              "  const element = document.createElement('span');\n",
              "  element.textContent = text;\n",
              "  for (const key of Object.keys(styleAttributes)) {\n",
              "    element.style[key] = styleAttributes[key];\n",
              "  }\n",
              "  return element;\n",
              "}\n",
              "\n",
              "// Max number of bytes which will be uploaded at a time.\n",
              "const MAX_PAYLOAD_SIZE = 100 * 1024;\n",
              "\n",
              "function _uploadFiles(inputId, outputId) {\n",
              "  const steps = uploadFilesStep(inputId, outputId);\n",
              "  const outputElement = document.getElementById(outputId);\n",
              "  // Cache steps on the outputElement to make it available for the next call\n",
              "  // to uploadFilesContinue from Python.\n",
              "  outputElement.steps = steps;\n",
              "\n",
              "  return _uploadFilesContinue(outputId);\n",
              "}\n",
              "\n",
              "// This is roughly an async generator (not supported in the browser yet),\n",
              "// where there are multiple asynchronous steps and the Python side is going\n",
              "// to poll for completion of each step.\n",
              "// This uses a Promise to block the python side on completion of each step,\n",
              "// then passes the result of the previous step as the input to the next step.\n",
              "function _uploadFilesContinue(outputId) {\n",
              "  const outputElement = document.getElementById(outputId);\n",
              "  const steps = outputElement.steps;\n",
              "\n",
              "  const next = steps.next(outputElement.lastPromiseValue);\n",
              "  return Promise.resolve(next.value.promise).then((value) => {\n",
              "    // Cache the last promise value to make it available to the next\n",
              "    // step of the generator.\n",
              "    outputElement.lastPromiseValue = value;\n",
              "    return next.value.response;\n",
              "  });\n",
              "}\n",
              "\n",
              "/**\n",
              " * Generator function which is called between each async step of the upload\n",
              " * process.\n",
              " * @param {string} inputId Element ID of the input file picker element.\n",
              " * @param {string} outputId Element ID of the output display.\n",
              " * @return {!Iterable<!Object>} Iterable of next steps.\n",
              " */\n",
              "function* uploadFilesStep(inputId, outputId) {\n",
              "  const inputElement = document.getElementById(inputId);\n",
              "  inputElement.disabled = false;\n",
              "\n",
              "  const outputElement = document.getElementById(outputId);\n",
              "  outputElement.innerHTML = '';\n",
              "\n",
              "  const pickedPromise = new Promise((resolve) => {\n",
              "    inputElement.addEventListener('change', (e) => {\n",
              "      resolve(e.target.files);\n",
              "    });\n",
              "  });\n",
              "\n",
              "  const cancel = document.createElement('button');\n",
              "  inputElement.parentElement.appendChild(cancel);\n",
              "  cancel.textContent = 'Cancel upload';\n",
              "  const cancelPromise = new Promise((resolve) => {\n",
              "    cancel.onclick = () => {\n",
              "      resolve(null);\n",
              "    };\n",
              "  });\n",
              "\n",
              "  // Wait for the user to pick the files.\n",
              "  const files = yield {\n",
              "    promise: Promise.race([pickedPromise, cancelPromise]),\n",
              "    response: {\n",
              "      action: 'starting',\n",
              "    }\n",
              "  };\n",
              "\n",
              "  cancel.remove();\n",
              "\n",
              "  // Disable the input element since further picks are not allowed.\n",
              "  inputElement.disabled = true;\n",
              "\n",
              "  if (!files) {\n",
              "    return {\n",
              "      response: {\n",
              "        action: 'complete',\n",
              "      }\n",
              "    };\n",
              "  }\n",
              "\n",
              "  for (const file of files) {\n",
              "    const li = document.createElement('li');\n",
              "    li.append(span(file.name, {fontWeight: 'bold'}));\n",
              "    li.append(span(\n",
              "        `(${file.type || 'n/a'}) - ${file.size} bytes, ` +\n",
              "        `last modified: ${\n",
              "            file.lastModifiedDate ? file.lastModifiedDate.toLocaleDateString() :\n",
              "                                    'n/a'} - `));\n",
              "    const percent = span('0% done');\n",
              "    li.appendChild(percent);\n",
              "\n",
              "    outputElement.appendChild(li);\n",
              "\n",
              "    const fileDataPromise = new Promise((resolve) => {\n",
              "      const reader = new FileReader();\n",
              "      reader.onload = (e) => {\n",
              "        resolve(e.target.result);\n",
              "      };\n",
              "      reader.readAsArrayBuffer(file);\n",
              "    });\n",
              "    // Wait for the data to be ready.\n",
              "    let fileData = yield {\n",
              "      promise: fileDataPromise,\n",
              "      response: {\n",
              "        action: 'continue',\n",
              "      }\n",
              "    };\n",
              "\n",
              "    // Use a chunked sending to avoid message size limits. See b/62115660.\n",
              "    let position = 0;\n",
              "    do {\n",
              "      const length = Math.min(fileData.byteLength - position, MAX_PAYLOAD_SIZE);\n",
              "      const chunk = new Uint8Array(fileData, position, length);\n",
              "      position += length;\n",
              "\n",
              "      const base64 = btoa(String.fromCharCode.apply(null, chunk));\n",
              "      yield {\n",
              "        response: {\n",
              "          action: 'append',\n",
              "          file: file.name,\n",
              "          data: base64,\n",
              "        },\n",
              "      };\n",
              "\n",
              "      let percentDone = fileData.byteLength === 0 ?\n",
              "          100 :\n",
              "          Math.round((position / fileData.byteLength) * 100);\n",
              "      percent.textContent = `${percentDone}% done`;\n",
              "\n",
              "    } while (position < fileData.byteLength);\n",
              "  }\n",
              "\n",
              "  // All done.\n",
              "  yield {\n",
              "    response: {\n",
              "      action: 'complete',\n",
              "    }\n",
              "  };\n",
              "}\n",
              "\n",
              "scope.google = scope.google || {};\n",
              "scope.google.colab = scope.google.colab || {};\n",
              "scope.google.colab._files = {\n",
              "  _uploadFiles,\n",
              "  _uploadFilesContinue,\n",
              "};\n",
              "})(self);\n",
              "</script> "
            ]
          },
          "metadata": {}
        },
        {
          "output_type": "stream",
          "name": "stdout",
          "text": [
            "Saving evdata.csv to evdata.csv\n",
            "Collecting category_encoders\n",
            "  Downloading category_encoders-2.6.3-py2.py3-none-any.whl.metadata (8.0 kB)\n",
            "Requirement already satisfied: numpy>=1.14.0 in /usr/local/lib/python3.10/dist-packages (from category_encoders) (1.26.4)\n",
            "Requirement already satisfied: scikit-learn>=0.20.0 in /usr/local/lib/python3.10/dist-packages (from category_encoders) (1.3.2)\n",
            "Requirement already satisfied: scipy>=1.0.0 in /usr/local/lib/python3.10/dist-packages (from category_encoders) (1.13.1)\n",
            "Requirement already satisfied: statsmodels>=0.9.0 in /usr/local/lib/python3.10/dist-packages (from category_encoders) (0.14.2)\n",
            "Requirement already satisfied: pandas>=1.0.5 in /usr/local/lib/python3.10/dist-packages (from category_encoders) (2.1.4)\n",
            "Requirement already satisfied: patsy>=0.5.1 in /usr/local/lib/python3.10/dist-packages (from category_encoders) (0.5.6)\n",
            "Requirement already satisfied: python-dateutil>=2.8.2 in /usr/local/lib/python3.10/dist-packages (from pandas>=1.0.5->category_encoders) (2.8.2)\n",
            "Requirement already satisfied: pytz>=2020.1 in /usr/local/lib/python3.10/dist-packages (from pandas>=1.0.5->category_encoders) (2024.1)\n",
            "Requirement already satisfied: tzdata>=2022.1 in /usr/local/lib/python3.10/dist-packages (from pandas>=1.0.5->category_encoders) (2024.1)\n",
            "Requirement already satisfied: six in /usr/local/lib/python3.10/dist-packages (from patsy>=0.5.1->category_encoders) (1.16.0)\n",
            "Requirement already satisfied: joblib>=1.1.1 in /usr/local/lib/python3.10/dist-packages (from scikit-learn>=0.20.0->category_encoders) (1.4.2)\n",
            "Requirement already satisfied: threadpoolctl>=2.0.0 in /usr/local/lib/python3.10/dist-packages (from scikit-learn>=0.20.0->category_encoders) (3.5.0)\n",
            "Requirement already satisfied: packaging>=21.3 in /usr/local/lib/python3.10/dist-packages (from statsmodels>=0.9.0->category_encoders) (24.1)\n",
            "Downloading category_encoders-2.6.3-py2.py3-none-any.whl (81 kB)\n",
            "\u001b[2K   \u001b[90m━━━━━━━━━━━━━━━━━━━━━━━━━━━━━━━━━━━━━━━━\u001b[0m \u001b[32m81.9/81.9 kB\u001b[0m \u001b[31m3.3 MB/s\u001b[0m eta \u001b[36m0:00:00\u001b[0m\n",
            "\u001b[?25hInstalling collected packages: category_encoders\n",
            "Successfully installed category_encoders-2.6.3\n"
          ]
        }
      ]
    },
    {
      "cell_type": "markdown",
      "source": [
        "BINARY CODING"
      ],
      "metadata": {
        "id": "DS68lg3TKF4z"
      }
    },
    {
      "cell_type": "code",
      "source": [
        "import category_encoders as ce\n",
        "\n",
        "# Apply binary encoding to the 'region' column\n",
        "binary_encoder = ce.BinaryEncoder(cols=['region'])\n",
        "df_binary_encoded = binary_encoder.fit_transform(df['region'])\n",
        "\n",
        "print(df_binary_encoded.head())\n"
      ],
      "metadata": {
        "colab": {
          "base_uri": "https://localhost:8080/"
        },
        "id": "mZtt0oDBKHxo",
        "outputId": "86a04c91-10fb-439b-a5a1-49efbfe8abdd"
      },
      "execution_count": 2,
      "outputs": [
        {
          "output_type": "stream",
          "name": "stdout",
          "text": [
            "   region_0  region_1  region_2  region_3  region_4  region_5\n",
            "0         0         0         0         0         0         1\n",
            "1         0         0         0         0         0         1\n",
            "2         0         0         0         0         0         1\n",
            "3         0         0         0         0         0         1\n",
            "4         0         0         0         0         0         1\n"
          ]
        }
      ]
    },
    {
      "cell_type": "markdown",
      "source": [
        "ONE HOT ENCODING"
      ],
      "metadata": {
        "id": "CkcKi1h4KQEx"
      }
    },
    {
      "cell_type": "code",
      "source": [
        "\n",
        "one_hot_encoded = pd.get_dummies(df['region'], prefix='region')\n",
        "\n",
        "print(one_hot_encoded.head())\n"
      ],
      "metadata": {
        "colab": {
          "base_uri": "https://localhost:8080/"
        },
        "id": "VIy-pEFrKSKL",
        "outputId": "fe2e561c-d312-4828-e1d6-b4bff10e58cf"
      },
      "execution_count": 3,
      "outputs": [
        {
          "output_type": "stream",
          "name": "stdout",
          "text": [
            "   region_Australia  region_Austria  region_Belgium  region_Brazil  \\\n",
            "0              True           False           False          False   \n",
            "1              True           False           False          False   \n",
            "2              True           False           False          False   \n",
            "3              True           False           False          False   \n",
            "4              True           False           False          False   \n",
            "\n",
            "   region_Bulgaria  region_Canada  region_Chile  region_China  \\\n",
            "0            False          False         False         False   \n",
            "1            False          False         False         False   \n",
            "2            False          False         False         False   \n",
            "3            False          False         False         False   \n",
            "4            False          False         False         False   \n",
            "\n",
            "   region_Colombia  region_Costa Rica  ...  region_South Africa  region_Spain  \\\n",
            "0            False              False  ...                False         False   \n",
            "1            False              False  ...                False         False   \n",
            "2            False              False  ...                False         False   \n",
            "3            False              False  ...                False         False   \n",
            "4            False              False  ...                False         False   \n",
            "\n",
            "   region_Sweden  region_Switzerland  region_Thailand  region_Turkiye  \\\n",
            "0          False               False            False           False   \n",
            "1          False               False            False           False   \n",
            "2          False               False            False           False   \n",
            "3          False               False            False           False   \n",
            "4          False               False            False           False   \n",
            "\n",
            "   region_USA  region_United Arab Emirates  region_United Kingdom  \\\n",
            "0       False                        False                  False   \n",
            "1       False                        False                  False   \n",
            "2       False                        False                  False   \n",
            "3       False                        False                  False   \n",
            "4       False                        False                  False   \n",
            "\n",
            "   region_World  \n",
            "0         False  \n",
            "1         False  \n",
            "2         False  \n",
            "3         False  \n",
            "4         False  \n",
            "\n",
            "[5 rows x 54 columns]\n"
          ]
        }
      ]
    },
    {
      "cell_type": "markdown",
      "source": [
        "LABEL ENCODING"
      ],
      "metadata": {
        "id": "Ej4os0YoKbeT"
      }
    },
    {
      "cell_type": "code",
      "source": [
        "from sklearn.preprocessing import LabelEncoder\n",
        "\n",
        "# Apply label encoding to the 'region' column\n",
        "label_encoder = LabelEncoder()\n",
        "df['region_encoded'] = label_encoder.fit_transform(df['region'])\n",
        "\n",
        "print(df[['region', 'region_encoded']].head())\n"
      ],
      "metadata": {
        "colab": {
          "base_uri": "https://localhost:8080/"
        },
        "id": "icq_-5YOKdOs",
        "outputId": "7b53fe3b-28a1-41d1-ca7a-f8996ca56013"
      },
      "execution_count": 4,
      "outputs": [
        {
          "output_type": "stream",
          "name": "stdout",
          "text": [
            "      region  region_encoded\n",
            "0  Australia               0\n",
            "1  Australia               0\n",
            "2  Australia               0\n",
            "3  Australia               0\n",
            "4  Australia               0\n"
          ]
        }
      ]
    },
    {
      "cell_type": "markdown",
      "source": [
        "TARGET ENCODING"
      ],
      "metadata": {
        "id": "Odr7O3DTKnyP"
      }
    },
    {
      "cell_type": "code",
      "source": [
        "# Calculate the mean of 'value' for each 'region'\n",
        "target_mean = df.groupby('region')['value'].mean()\n",
        "\n",
        "# Map the mean values to the corresponding 'region' entries\n",
        "df['region_target_encoded'] = df['region'].map(target_mean)\n",
        "\n",
        "print(df[['region', 'region_target_encoded']].head())\n"
      ],
      "metadata": {
        "colab": {
          "base_uri": "https://localhost:8080/"
        },
        "id": "_pB6xGQQKqO3",
        "outputId": "b0d6bf89-7e72-4e4c-c0f7-9dc72b5063f4"
      },
      "execution_count": 5,
      "outputs": [
        {
          "output_type": "stream",
          "name": "stdout",
          "text": [
            "      region  region_target_encoded\n",
            "0  Australia            6294.884095\n",
            "1  Australia            6294.884095\n",
            "2  Australia            6294.884095\n",
            "3  Australia            6294.884095\n",
            "4  Australia            6294.884095\n"
          ]
        }
      ]
    },
    {
      "cell_type": "markdown",
      "source": [
        "DUMMY ENCODING"
      ],
      "metadata": {
        "id": "HNEgs5ETKzp4"
      }
    },
    {
      "cell_type": "code",
      "source": [
        "# Apply dummy encoding to the 'region' column, dropping the first category\n",
        "dummy_encoded = pd.get_dummies(df['region'], drop_first=True, prefix='region')\n",
        "\n",
        "print(dummy_encoded.head())\n"
      ],
      "metadata": {
        "colab": {
          "base_uri": "https://localhost:8080/"
        },
        "id": "0vF9J_xiK1WJ",
        "outputId": "b837bcc4-0d19-419d-89cc-8d0523472ecc"
      },
      "execution_count": 6,
      "outputs": [
        {
          "output_type": "stream",
          "name": "stdout",
          "text": [
            "   region_Austria  region_Belgium  region_Brazil  region_Bulgaria  \\\n",
            "0           False           False          False            False   \n",
            "1           False           False          False            False   \n",
            "2           False           False          False            False   \n",
            "3           False           False          False            False   \n",
            "4           False           False          False            False   \n",
            "\n",
            "   region_Canada  region_Chile  region_China  region_Colombia  \\\n",
            "0          False         False         False            False   \n",
            "1          False         False         False            False   \n",
            "2          False         False         False            False   \n",
            "3          False         False         False            False   \n",
            "4          False         False         False            False   \n",
            "\n",
            "   region_Costa Rica  region_Croatia  ...  region_South Africa  region_Spain  \\\n",
            "0              False           False  ...                False         False   \n",
            "1              False           False  ...                False         False   \n",
            "2              False           False  ...                False         False   \n",
            "3              False           False  ...                False         False   \n",
            "4              False           False  ...                False         False   \n",
            "\n",
            "   region_Sweden  region_Switzerland  region_Thailand  region_Turkiye  \\\n",
            "0          False               False            False           False   \n",
            "1          False               False            False           False   \n",
            "2          False               False            False           False   \n",
            "3          False               False            False           False   \n",
            "4          False               False            False           False   \n",
            "\n",
            "   region_USA  region_United Arab Emirates  region_United Kingdom  \\\n",
            "0       False                        False                  False   \n",
            "1       False                        False                  False   \n",
            "2       False                        False                  False   \n",
            "3       False                        False                  False   \n",
            "4       False                        False                  False   \n",
            "\n",
            "   region_World  \n",
            "0         False  \n",
            "1         False  \n",
            "2         False  \n",
            "3         False  \n",
            "4         False  \n",
            "\n",
            "[5 rows x 53 columns]\n"
          ]
        }
      ]
    }
  ]
}