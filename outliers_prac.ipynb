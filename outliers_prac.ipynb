{
  "nbformat": 4,
  "nbformat_minor": 0,
  "metadata": {
    "colab": {
      "provenance": []
    },
    "kernelspec": {
      "name": "python3",
      "display_name": "Python 3"
    },
    "language_info": {
      "name": "python"
    }
  },
  "cells": [
    {
      "cell_type": "markdown",
      "source": [
        "#                                    Sample Dataset"
      ],
      "metadata": {
        "id": "5wjaXq0xY3Yu"
      }
    },
    {
      "cell_type": "markdown",
      "source": [
        "Creating Sample Data"
      ],
      "metadata": {
        "id": "HRKSH6eZYPGQ"
      }
    },
    {
      "cell_type": "code",
      "execution_count": 11,
      "metadata": {
        "colab": {
          "base_uri": "https://localhost:8080/"
        },
        "id": "iKwsNcUhVLcp",
        "outputId": "f1096579-6e62-4f1b-8170-ba8b66312844"
      },
      "outputs": [
        {
          "output_type": "stream",
          "name": "stdout",
          "text": [
            "      age    salary   exp\n",
            "0    23.0   50000.0   1.0\n",
            "1    45.0   60000.0  10.0\n",
            "2    31.0   52000.0   4.0\n",
            "3     NaN   48000.0   2.0\n",
            "4    29.0   55000.0   5.0\n",
            "5    41.0   62000.0  11.0\n",
            "6    54.0       NaN  20.0\n",
            "7     NaN   58000.0   NaN\n",
            "8    38.0   54000.0   6.0\n",
            "9    27.0   51000.0   3.0\n",
            "10   30.0  500000.0   2.0\n",
            "11  120.0   62000.0  15.0\n",
            "12   25.0       NaN   1.0\n",
            "13    NaN   60000.0   NaN\n",
            "14   48.0   65000.0   9.0\n",
            "15   38.0   59000.0   5.0\n",
            "16   29.0   53000.0   3.0\n",
            "17  150.0   45000.0  22.0\n",
            "18   33.0       NaN   4.0\n",
            "19   40.0   61000.0   7.0\n"
          ]
        }
      ],
      "source": [
        "import pandas as pd\n",
        "import numpy as np\n",
        "\n",
        "\n",
        "data = {\n",
        "    'age': [23, 45, 31, np.nan, 29, 41, 54, np.nan, 38, 27, 30, 120, 25, np.nan, 48, 38, 29, 150, 33, 40],\n",
        "    'salary': [50000, 60000, 52000, 48000, 55000, 62000, np.nan, 58000, 54000, 51000, 500000, 62000, np.nan, 60000, 65000, 59000, 53000, 45000, np.nan, 61000],\n",
        "    'exp': [1, 10, 4, 2, 5, 11, 20, np.nan, 6, 3, 2, 15, 1, np.nan, 9, 5, 3, 22, 4, 7]\n",
        "}\n",
        "\n",
        "df = pd.DataFrame(data)\n",
        "print(df)\n"
      ]
    },
    {
      "cell_type": "markdown",
      "source": [
        "# Outlier Analysis\n",
        "**Defintion:**\n",
        "\n",
        "Outlier analysis involves identifying and treating data points that are significantly different from the rest of the dataset. Outliers can distort statistical analyses and models, so it's important to detect and address them.\n",
        "\n",
        "**1. IQR (Interquartile Range) Method:**\n",
        "\n",
        "Definition: The IQR method identifies outliers by measuring the spread of the middle 50% of the data. Outliers are data points that lie below the first quartile (Q1) or above the third quartile (Q3) by a certain margin.\n",
        "\n",
        "Formulae:\n",
        "\n",
        "IQR = Q3 - Q1\n",
        "\n",
        "Lower bound = Q1 -1.5*IQR\n",
        "\n",
        "Upper bound = Q3 + 1.5*IQR"
      ],
      "metadata": {
        "id": "SSVs83yKXbZt"
      }
    },
    {
      "cell_type": "code",
      "source": [
        "def detect_outliers_iqr(col):\n",
        "    Q1 = col.quantile(0.25)\n",
        "    Q3 = col.quantile(0.75)\n",
        "    IQR = Q3 - Q1\n",
        "    Lower_bound = Q1 - 1.5 * IQR\n",
        "    Upper_bound = Q3 + 1.5 * IQR\n",
        "    outliers = col[(col < Lower_bound) | (col > Upper_bound)]\n",
        "    return outliers\n",
        "\n",
        "outliers_age = detect_outliers_iqr(df['age'])\n",
        "outliers_salary = detect_outliers_iqr(df['salary'])\n",
        "outliers_exp = detect_outliers_iqr(df['exp'])\n",
        "\n",
        "print(\"Outliers detected using IQR:\")\n",
        "print(f\"Age outliers:\\n{outliers_age}\\n\")\n",
        "print(f\"Salary outliers:\\n{outliers_salary}\\n\")\n",
        "print(f\"Experience outliers:\\n{outliers_exp}\\n\")\n"
      ],
      "metadata": {
        "colab": {
          "base_uri": "https://localhost:8080/"
        },
        "id": "3OxXIXN7XhJ9",
        "outputId": "0e5813e2-027d-4146-f01d-8f292bf377c4"
      },
      "execution_count": 19,
      "outputs": [
        {
          "output_type": "stream",
          "name": "stdout",
          "text": [
            "Outliers detected using IQR:\n",
            "Age outliers:\n",
            "11    120.0\n",
            "17    150.0\n",
            "Name: age, dtype: float64\n",
            "\n",
            "Salary outliers:\n",
            "10    500000.0\n",
            "Name: salary, dtype: float64\n",
            "\n",
            "Experience outliers:\n",
            "6     20.0\n",
            "17    22.0\n",
            "Name: exp, dtype: float64\n",
            "\n"
          ]
        }
      ]
    },
    {
      "cell_type": "markdown",
      "source": [
        "**Explanation**: This code calculates the IQR and uses it to define lower and upper bounds. Data points outside these bounds are considered outliers."
      ],
      "metadata": {
        "id": "6lKcYHeCYBrG"
      }
    },
    {
      "cell_type": "markdown",
      "source": [
        "**2. Z-Score Method**\n",
        "\n",
        "**Definition:**\n",
        "The Z-score method identifies outliers by measuring how many standard deviations a data point is from the mean. A data point with a Z-score greater than a certain threshold (usually ±3) is considered an outlier."
      ],
      "metadata": {
        "id": "3Dw0HXOzYL-r"
      }
    },
    {
      "cell_type": "code",
      "source": [
        "from scipy import stats\n",
        "def detect_outliers_zscore(col):\n",
        "    z_scores = np.abs(stats.zscore(col.dropna()))\n",
        "    threshold = 3\n",
        "\n",
        "    outliers = col[(z_scores > threshold).reindex_like(col).fillna(False)]\n",
        "    return outliers\n",
        "\n",
        "outliers_age_z = detect_outliers_zscore(df['age'])\n",
        "outliers_salary_z = detect_outliers_zscore(df['salary'])\n",
        "outliers_exp_z = detect_outliers_zscore(df['exp'])\n",
        "\n",
        "print(\"Outliers detected using Z-Score:\")\n",
        "print(f\"Age outliers:\\n{outliers_age_z}\\n\")\n",
        "print(f\"Salary outliers:\\n{outliers_salary_z}\\n\")\n",
        "print(f\"Experience outliers:\\n{outliers_exp_z}\\n\")\n"
      ],
      "metadata": {
        "colab": {
          "base_uri": "https://localhost:8080/"
        },
        "id": "XKr4ce1KYetU",
        "outputId": "5101a082-0847-4adf-8f44-949ec45f30cd"
      },
      "execution_count": 14,
      "outputs": [
        {
          "output_type": "stream",
          "name": "stdout",
          "text": [
            "Outliers detected using Z-Score:\n",
            "Age outliers:\n",
            "17    150.0\n",
            "Name: age, dtype: float64\n",
            "\n",
            "Salary outliers:\n",
            "10    500000.0\n",
            "Name: salary, dtype: float64\n",
            "\n",
            "Experience outliers:\n",
            "Series([], Name: exp, dtype: float64)\n",
            "\n"
          ]
        }
      ]
    },
    {
      "cell_type": "markdown",
      "source": [
        "**Explanation:**\n",
        "This code computes the Z-scores for each data point in the specified column and identifies those that have a Z-score greater than the threshold as outliers."
      ],
      "metadata": {
        "id": "Jl25JlnpYuVn"
      }
    },
    {
      "cell_type": "markdown",
      "source": [
        "# CSV Dataset"
      ],
      "metadata": {
        "id": "PlOfW_ubeFqK"
      }
    },
    {
      "cell_type": "code",
      "source": [
        "from google.colab import files\n",
        "uploaded = files.upload()\n",
        "df2=pd.read_csv('Toyota.csv')\n",
        "print(df2)"
      ],
      "metadata": {
        "colab": {
          "base_uri": "https://localhost:8080/",
          "height": 541
        },
        "id": "UHzJDcQPeTkJ",
        "outputId": "f0d5b33f-398f-46a3-f3c9-9fa1f327c78f"
      },
      "execution_count": 21,
      "outputs": [
        {
          "output_type": "display_data",
          "data": {
            "text/plain": [
              "<IPython.core.display.HTML object>"
            ],
            "text/html": [
              "\n",
              "     <input type=\"file\" id=\"files-5b55ff8e-2baa-47f6-ab7f-26c1b67c0adf\" name=\"files[]\" multiple disabled\n",
              "        style=\"border:none\" />\n",
              "     <output id=\"result-5b55ff8e-2baa-47f6-ab7f-26c1b67c0adf\">\n",
              "      Upload widget is only available when the cell has been executed in the\n",
              "      current browser session. Please rerun this cell to enable.\n",
              "      </output>\n",
              "      <script>// Copyright 2017 Google LLC\n",
              "//\n",
              "// Licensed under the Apache License, Version 2.0 (the \"License\");\n",
              "// you may not use this file except in compliance with the License.\n",
              "// You may obtain a copy of the License at\n",
              "//\n",
              "//      http://www.apache.org/licenses/LICENSE-2.0\n",
              "//\n",
              "// Unless required by applicable law or agreed to in writing, software\n",
              "// distributed under the License is distributed on an \"AS IS\" BASIS,\n",
              "// WITHOUT WARRANTIES OR CONDITIONS OF ANY KIND, either express or implied.\n",
              "// See the License for the specific language governing permissions and\n",
              "// limitations under the License.\n",
              "\n",
              "/**\n",
              " * @fileoverview Helpers for google.colab Python module.\n",
              " */\n",
              "(function(scope) {\n",
              "function span(text, styleAttributes = {}) {\n",
              "  const element = document.createElement('span');\n",
              "  element.textContent = text;\n",
              "  for (const key of Object.keys(styleAttributes)) {\n",
              "    element.style[key] = styleAttributes[key];\n",
              "  }\n",
              "  return element;\n",
              "}\n",
              "\n",
              "// Max number of bytes which will be uploaded at a time.\n",
              "const MAX_PAYLOAD_SIZE = 100 * 1024;\n",
              "\n",
              "function _uploadFiles(inputId, outputId) {\n",
              "  const steps = uploadFilesStep(inputId, outputId);\n",
              "  const outputElement = document.getElementById(outputId);\n",
              "  // Cache steps on the outputElement to make it available for the next call\n",
              "  // to uploadFilesContinue from Python.\n",
              "  outputElement.steps = steps;\n",
              "\n",
              "  return _uploadFilesContinue(outputId);\n",
              "}\n",
              "\n",
              "// This is roughly an async generator (not supported in the browser yet),\n",
              "// where there are multiple asynchronous steps and the Python side is going\n",
              "// to poll for completion of each step.\n",
              "// This uses a Promise to block the python side on completion of each step,\n",
              "// then passes the result of the previous step as the input to the next step.\n",
              "function _uploadFilesContinue(outputId) {\n",
              "  const outputElement = document.getElementById(outputId);\n",
              "  const steps = outputElement.steps;\n",
              "\n",
              "  const next = steps.next(outputElement.lastPromiseValue);\n",
              "  return Promise.resolve(next.value.promise).then((value) => {\n",
              "    // Cache the last promise value to make it available to the next\n",
              "    // step of the generator.\n",
              "    outputElement.lastPromiseValue = value;\n",
              "    return next.value.response;\n",
              "  });\n",
              "}\n",
              "\n",
              "/**\n",
              " * Generator function which is called between each async step of the upload\n",
              " * process.\n",
              " * @param {string} inputId Element ID of the input file picker element.\n",
              " * @param {string} outputId Element ID of the output display.\n",
              " * @return {!Iterable<!Object>} Iterable of next steps.\n",
              " */\n",
              "function* uploadFilesStep(inputId, outputId) {\n",
              "  const inputElement = document.getElementById(inputId);\n",
              "  inputElement.disabled = false;\n",
              "\n",
              "  const outputElement = document.getElementById(outputId);\n",
              "  outputElement.innerHTML = '';\n",
              "\n",
              "  const pickedPromise = new Promise((resolve) => {\n",
              "    inputElement.addEventListener('change', (e) => {\n",
              "      resolve(e.target.files);\n",
              "    });\n",
              "  });\n",
              "\n",
              "  const cancel = document.createElement('button');\n",
              "  inputElement.parentElement.appendChild(cancel);\n",
              "  cancel.textContent = 'Cancel upload';\n",
              "  const cancelPromise = new Promise((resolve) => {\n",
              "    cancel.onclick = () => {\n",
              "      resolve(null);\n",
              "    };\n",
              "  });\n",
              "\n",
              "  // Wait for the user to pick the files.\n",
              "  const files = yield {\n",
              "    promise: Promise.race([pickedPromise, cancelPromise]),\n",
              "    response: {\n",
              "      action: 'starting',\n",
              "    }\n",
              "  };\n",
              "\n",
              "  cancel.remove();\n",
              "\n",
              "  // Disable the input element since further picks are not allowed.\n",
              "  inputElement.disabled = true;\n",
              "\n",
              "  if (!files) {\n",
              "    return {\n",
              "      response: {\n",
              "        action: 'complete',\n",
              "      }\n",
              "    };\n",
              "  }\n",
              "\n",
              "  for (const file of files) {\n",
              "    const li = document.createElement('li');\n",
              "    li.append(span(file.name, {fontWeight: 'bold'}));\n",
              "    li.append(span(\n",
              "        `(${file.type || 'n/a'}) - ${file.size} bytes, ` +\n",
              "        `last modified: ${\n",
              "            file.lastModifiedDate ? file.lastModifiedDate.toLocaleDateString() :\n",
              "                                    'n/a'} - `));\n",
              "    const percent = span('0% done');\n",
              "    li.appendChild(percent);\n",
              "\n",
              "    outputElement.appendChild(li);\n",
              "\n",
              "    const fileDataPromise = new Promise((resolve) => {\n",
              "      const reader = new FileReader();\n",
              "      reader.onload = (e) => {\n",
              "        resolve(e.target.result);\n",
              "      };\n",
              "      reader.readAsArrayBuffer(file);\n",
              "    });\n",
              "    // Wait for the data to be ready.\n",
              "    let fileData = yield {\n",
              "      promise: fileDataPromise,\n",
              "      response: {\n",
              "        action: 'continue',\n",
              "      }\n",
              "    };\n",
              "\n",
              "    // Use a chunked sending to avoid message size limits. See b/62115660.\n",
              "    let position = 0;\n",
              "    do {\n",
              "      const length = Math.min(fileData.byteLength - position, MAX_PAYLOAD_SIZE);\n",
              "      const chunk = new Uint8Array(fileData, position, length);\n",
              "      position += length;\n",
              "\n",
              "      const base64 = btoa(String.fromCharCode.apply(null, chunk));\n",
              "      yield {\n",
              "        response: {\n",
              "          action: 'append',\n",
              "          file: file.name,\n",
              "          data: base64,\n",
              "        },\n",
              "      };\n",
              "\n",
              "      let percentDone = fileData.byteLength === 0 ?\n",
              "          100 :\n",
              "          Math.round((position / fileData.byteLength) * 100);\n",
              "      percent.textContent = `${percentDone}% done`;\n",
              "\n",
              "    } while (position < fileData.byteLength);\n",
              "  }\n",
              "\n",
              "  // All done.\n",
              "  yield {\n",
              "    response: {\n",
              "      action: 'complete',\n",
              "    }\n",
              "  };\n",
              "}\n",
              "\n",
              "scope.google = scope.google || {};\n",
              "scope.google.colab = scope.google.colab || {};\n",
              "scope.google.colab._files = {\n",
              "  _uploadFiles,\n",
              "  _uploadFilesContinue,\n",
              "};\n",
              "})(self);\n",
              "</script> "
            ]
          },
          "metadata": {}
        },
        {
          "output_type": "stream",
          "name": "stdout",
          "text": [
            "Saving Toyota.csv to Toyota (2).csv\n",
            "      Unnamed: 0  Price   Age     KM FuelType   HP  MetColor  Automatic    CC  \\\n",
            "0              0  13500  23.0  46986   Diesel   90       1.0          0  2000   \n",
            "1              1  13750  23.0  72937   Diesel   90       1.0          0  2000   \n",
            "2              2  13950  24.0  41711   Diesel   90       NaN          0  2000   \n",
            "3              3  14950  26.0  48000   Diesel   90       0.0          0  2000   \n",
            "4              4  13750  30.0  38500   Diesel   90       0.0          0  2000   \n",
            "...          ...    ...   ...    ...      ...  ...       ...        ...   ...   \n",
            "1431        1431   7500   NaN  20544   Petrol   86       1.0          0  1300   \n",
            "1432        1432  10845  72.0     ??   Petrol   86       0.0          0  1300   \n",
            "1433        1433   8500   NaN  17016   Petrol   86       0.0          0  1300   \n",
            "1434        1434   7250  70.0     ??      NaN   86       1.0          0  1300   \n",
            "1435        1435   6950  76.0      1   Petrol  110       0.0          0  1600   \n",
            "\n",
            "      Doors  Weight  \n",
            "0     three    1165  \n",
            "1         3    1165  \n",
            "2         3    1165  \n",
            "3         3    1165  \n",
            "4         3    1170  \n",
            "...     ...     ...  \n",
            "1431      3    1025  \n",
            "1432      3    1015  \n",
            "1433      3    1015  \n",
            "1434      3    1015  \n",
            "1435      5    1114  \n",
            "\n",
            "[1436 rows x 11 columns]\n"
          ]
        }
      ]
    },
    {
      "cell_type": "markdown",
      "source": [
        "1.IQR"
      ],
      "metadata": {
        "id": "kUSDrolSgNUS"
      }
    },
    {
      "cell_type": "code",
      "source": [
        "import pandas as pd\n",
        "\n",
        "# Load dataset\n",
        "df2 = pd.read_csv('Toyota.csv')\n",
        "\n",
        "# Calculate Q1 (25th percentile) and Q3 (75th percentile)\n",
        "Q1 = df2['Price'].quantile(0.25)\n",
        "Q3 = df2['Price'].quantile(0.75)\n",
        "\n",
        "# Calculate IQR\n",
        "IQR = Q3 - Q1\n",
        "\n",
        "# Define outlier bounds\n",
        "lower_bound = Q1 - 1.5 * IQR\n",
        "upper_bound = Q3 + 1.5 * IQR\n",
        "\n",
        "# Identify outliers\n",
        "outliers = df2[(df2['Price'] < lower_bound) | (df2['Price'] > upper_bound)]\n",
        "\n",
        "print(f\"Outliers:\\n{outliers}\")\n"
      ],
      "metadata": {
        "colab": {
          "base_uri": "https://localhost:8080/"
        },
        "id": "AZ0hc9hIgMjW",
        "outputId": "f2634660-01b8-4487-faf8-9a88976ebe04"
      },
      "execution_count": 24,
      "outputs": [
        {
          "output_type": "stream",
          "name": "stdout",
          "text": [
            "Outliers:\n",
            "     Unnamed: 0  Price   Age     KM FuelType   HP  MetColor  Automatic    CC  \\\n",
            "7             7  18600  30.0  75889      NaN   90       1.0          0  2000   \n",
            "8             8  21500  27.0  19700   Petrol  192       0.0          0  1800   \n",
            "10           10  20950  25.0  31461   Petrol  192       0.0          0  1800   \n",
            "11           11  19950  22.0  43610   Petrol  192       0.0          0  1800   \n",
            "12           12  19600  25.0  32189   Petrol  192       0.0          0  1800   \n",
            "..          ...    ...   ...    ...      ...  ...       ...        ...   ...   \n",
            "182         182  21125   2.0    225   Petrol   97       1.0          0  1400   \n",
            "183         183  21500   NaN     15   Petrol  110       1.0          0  1600   \n",
            "184         184  17795   1.0      1   Petrol   98       1.0          0  1400   \n",
            "185         185  18245   1.0      1   Petrol  110       1.0          0  1600   \n",
            "523         523  18950  49.0  49568   Petrol  110       1.0          0  1600   \n",
            "\n",
            "    Doors  Weight  \n",
            "7       3    1245  \n",
            "8       3    1185  \n",
            "10      3    1185  \n",
            "11      3    1185  \n",
            "12      3    1185  \n",
            "..    ...     ...  \n",
            "182     5    1110  \n",
            "183     5    1130  \n",
            "184     4    1100  \n",
            "185     5    1075  \n",
            "523     3    1105  \n",
            "\n",
            "[110 rows x 11 columns]\n"
          ]
        }
      ]
    },
    {
      "cell_type": "markdown",
      "source": [
        "2.Z score"
      ],
      "metadata": {
        "id": "00Z-IIFvg6ge"
      }
    },
    {
      "cell_type": "code",
      "source": [
        "from scipy import stats\n",
        "import numpy as np\n",
        "\n",
        "# Calculate Z-scores\n",
        "z_scores = np.abs(stats.zscore(data['Price']))\n",
        "\n",
        "# Define threshold for identifying outliers\n",
        "threshold = 3\n",
        "\n",
        "# Identify outliers\n",
        "outliers = df2[z_scores > threshold]\n",
        "\n",
        "print(f\"Outliers:\\n{outliers}\")\n"
      ],
      "metadata": {
        "colab": {
          "base_uri": "https://localhost:8080/"
        },
        "id": "q1TVpvnHg8ys",
        "outputId": "ee243c96-9470-4714-b8c6-4cd9f6ce3ea2"
      },
      "execution_count": 25,
      "outputs": [
        {
          "output_type": "stream",
          "name": "stdout",
          "text": [
            "Outliers:\n",
            "     Unnamed: 0  Price   Age     KM FuelType    HP  MetColor  Automatic    CC  \\\n",
            "14           14  22500  32.0  34131   Petrol   192       1.0          0  1800   \n",
            "15           15  22000  28.0  18739   Petrol  ????       0.0          0  1800   \n",
            "16           16  22750  30.0  34000   Petrol   192       1.0          0  1800   \n",
            "49           49  21950  31.0  64982   Petrol   192       NaN          0  1800   \n",
            "53           53  21950  27.0  49866   Petrol   192       1.0          0  1800   \n",
            "68           68  22250  22.0  30000   Diesel   110       1.0          0  2000   \n",
            "89           89  21950  19.0  50005   Diesel   110       1.0          0  2000   \n",
            "91           91  22250  20.0     ??   Diesel    90       1.0          0  2000   \n",
            "109         109  32500   NaN      1      NaN   116       0.0          0  2000   \n",
            "110         110  31000   4.0   4000   Diesel   116       1.0          0  2000   \n",
            "111         111  31275   4.0   1500   Diesel   116       1.0          0  2000   \n",
            "112         112  24950   8.0     ??   Diesel   116       1.0          0  2000   \n",
            "113         113  24950   8.0  13253   Diesel   116       1.0          0  2000   \n",
            "114         114  22950   7.0  10000   Diesel   116       1.0          0  2000   \n",
            "115         115  24990   8.0   6000   Diesel    90       1.0          0  2000   \n",
            "116         116  21950   8.0  10841      NaN    90       1.0          0  2000   \n",
            "119         119  22250   NaN  57313      NaN   110       1.0          0  2000   \n",
            "125         125  21750  16.0     ??   Petrol   110       1.0          0  1600   \n",
            "138         138  23000  11.0  25000   Diesel   116       1.0          0  2000   \n",
            "141         141  23950  19.0  21684   Petrol   192       1.0          0  1800   \n",
            "147         147  24500  13.0  19988   Petrol   110       1.0          0  1600   \n",
            "154         154  21750  13.0  13178   Petrol   110       1.0          0  1600   \n",
            "171         171  23750   8.0  11000   Petrol   110       1.0          0  1600   \n",
            "174         174  21950   8.0   9788   Petrol   110       1.0          0  1600   \n",
            "178         178  21950   8.0   5000   Petrol   110       1.0          0  1600   \n",
            "179         179  22500   6.0   3000   Petrol   110       0.0          0  1600   \n",
            "\n",
            "    Doors  Weight  \n",
            "14      3    1185  \n",
            "15      3    1185  \n",
            "16      3    1185  \n",
            "49      5    1195  \n",
            "53      5    1195  \n",
            "68      5    1275  \n",
            "89      3    1265  \n",
            "91      3    1260  \n",
            "109     5    1480  \n",
            "110     5    1480  \n",
            "111     5    1480  \n",
            "112     5    1320  \n",
            "113     5    1320  \n",
            "114     5    1270  \n",
            "115     5    1280  \n",
            "116     5    1270  \n",
            "119     5    1275  \n",
            "125     5    1130  \n",
            "138     5    1320  \n",
            "141     5    1185  \n",
            "147     5    1130  \n",
            "154     5    1130  \n",
            "171     5    1130  \n",
            "174     5    1130  \n",
            "178     5    1130  \n",
            "179     5    1130  \n"
          ]
        }
      ]
    }
  ]
}